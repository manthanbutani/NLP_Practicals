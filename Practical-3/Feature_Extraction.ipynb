{
  "nbformat": 4,
  "nbformat_minor": 0,
  "metadata": {
    "colab": {
      "name": "Feature Extraction.ipynb",
      "provenance": []
    },
    "kernelspec": {
      "name": "python3",
      "display_name": "Python 3"
    },
    "language_info": {
      "name": "python"
    }
  },
  "cells": [
    {
      "cell_type": "code",
      "metadata": {
        "id": "bnmTUBlKcnem"
      },
      "source": [
        "import numpy as np\n",
        "import re\n",
        "\n",
        "def tokenize_sentences(sentences):\n",
        "    words = []\n",
        "    for sentence in sentences:\n",
        "        w = extract_words(sentence)\n",
        "        words.extend(w)\n",
        "        \n",
        "    words = sorted(list(set(words)))\n",
        "    return words"
      ],
      "execution_count": 1,
      "outputs": []
    },
    {
      "cell_type": "code",
      "metadata": {
        "id": "1Lu_nlTkcroT"
      },
      "source": [
        "def extract_words(sentence):\n",
        "    ignore_words = ['a']\n",
        "    words = re.sub(\"[^w]\", \" \",  sentence).split() #nltk.word_tokenize(sentence)\n",
        "    words_cleaned = [w.lower() for w in words if w not in ignore_words]\n",
        "    return words_cleaned   "
      ],
      "execution_count": 2,
      "outputs": []
    },
    {
      "cell_type": "code",
      "metadata": {
        "id": "zzU5UCgRcugt"
      },
      "source": [
        "def bagofwords(sentence, words):\n",
        "    sentence_words = extract_words(sentence)\n",
        "    # frequency word count\n",
        "    bag = np.zeros(len(words))\n",
        "    for sw in sentence_words:\n",
        "        for i,word in enumerate(words):\n",
        "            if word == sw: \n",
        "                bag[i] += 1\n",
        "                \n",
        "    return np.array(bag)"
      ],
      "execution_count": 3,
      "outputs": []
    },
    {
      "cell_type": "code",
      "metadata": {
        "id": "HzSGUIUXcwEl"
      },
      "source": [
        "sentences = [\"Machine learning is great\",\"Natural Language Processing is a complex field\",\n",
        "\"Natural Language Processing is used in machine learning\"]"
      ],
      "execution_count": 4,
      "outputs": []
    },
    {
      "cell_type": "code",
      "metadata": {
        "colab": {
          "base_uri": "https://localhost:8080/"
        },
        "id": "5SFBghTac3ML",
        "outputId": "977188ad-7524-4e33-e50d-50e09f919357"
      },
      "source": [
        "vocabulary = tokenize_sentences(sentences)\n",
        "bagofwords(\"Machine learning is great\", vocabulary)\n",
        "\n",
        "from sklearn.feature_extraction.text import CountVectorizer\n",
        "\n",
        "vectorizer = CountVectorizer(analyzer = \"word\", tokenizer = None, preprocessor = None, stop_words = None, max_features = 5000) \n",
        "\n",
        "train_data_features = vectorizer.fit_transform(sentences)\n",
        "\n",
        "vectorizer.transform([\"Machine learning is great\",\"Natural Language Processing is a complex field\",\n",
        "\"Natural Language Processing is used in machine learning\"]).toarray()"
      ],
      "execution_count": 5,
      "outputs": [
        {
          "output_type": "execute_result",
          "data": {
            "text/plain": [
              "array([[0, 0, 1, 0, 1, 0, 1, 1, 0, 0, 0],\n",
              "       [1, 1, 0, 0, 1, 1, 0, 0, 1, 1, 0],\n",
              "       [0, 0, 0, 1, 1, 1, 1, 1, 1, 1, 1]])"
            ]
          },
          "metadata": {},
          "execution_count": 5
        }
      ]
    },
    {
      "cell_type": "code",
      "metadata": {
        "id": "j-VRO3XudDwC"
      },
      "source": [
        ""
      ],
      "execution_count": null,
      "outputs": []
    }
  ]
}